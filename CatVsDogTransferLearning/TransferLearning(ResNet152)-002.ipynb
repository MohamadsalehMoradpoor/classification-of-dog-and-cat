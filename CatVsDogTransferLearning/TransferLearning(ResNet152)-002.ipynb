{
 "cells": [
  {
   "cell_type": "code",
   "execution_count": 1,
   "id": "b09cbce2",
   "metadata": {},
   "outputs": [],
   "source": [
    "from tensorflow.keras.models import Sequential\n",
    "from tensorflow.keras.layers import Dense, Dropout\n",
    "import pickle\n",
    "import numpy as np\n",
    "import matplotlib.pyplot as plt"
   ]
  },
  {
   "cell_type": "code",
   "execution_count": 2,
   "id": "e6713001",
   "metadata": {},
   "outputs": [],
   "source": [
    "model = Sequential()\n",
    "model.add(Dense(512, activation='relu', input_dim=51200))\n",
    "model.add(Dropout(0.3))\n",
    "model.add(Dense(256, activation='relu'))\n",
    "model.add(Dropout(0.3))\n",
    "model.add(Dense(128, activation='relu'))\n",
    "model.add(Dropout(0.3))\n",
    "model.add(Dense(1, activation='sigmoid'))"
   ]
  },
  {
   "cell_type": "code",
   "execution_count": 3,
   "id": "cd2915da",
   "metadata": {},
   "outputs": [],
   "source": [
    "model.compile(optimizer='adam', loss='binary_crossentropy', metrics=['accuracy'])"
   ]
  },
  {
   "cell_type": "code",
   "execution_count": 4,
   "id": "935ccfb1",
   "metadata": {},
   "outputs": [],
   "source": [
    "with open('features.h5', 'rb') as f:\n",
    "    features = pickle.load(f)\n",
    "with open('labels.h5', 'rb') as f:\n",
    "    labels = pickle.load(f)"
   ]
  },
  {
   "cell_type": "code",
   "execution_count": 5,
   "id": "2c35c1b3",
   "metadata": {},
   "outputs": [],
   "source": [
    "with open('features_test.h5', 'rb') as f:\n",
    "    features_test = pickle.load(f)\n",
    "with open('labels_test.h5', 'rb') as f:\n",
    "    labels_test = pickle.load(f)"
   ]
  },
  {
   "cell_type": "code",
   "execution_count": 6,
   "id": "59bea326",
   "metadata": {},
   "outputs": [
    {
     "name": "stdout",
     "output_type": "stream",
     "text": [
      "Model: \"sequential\"\n",
      "_________________________________________________________________\n",
      " Layer (type)                Output Shape              Param #   \n",
      "=================================================================\n",
      " dense (Dense)               (None, 512)               26214912  \n",
      "                                                                 \n",
      " dropout (Dropout)           (None, 512)               0         \n",
      "                                                                 \n",
      " dense_1 (Dense)             (None, 256)               131328    \n",
      "                                                                 \n",
      " dropout_1 (Dropout)         (None, 256)               0         \n",
      "                                                                 \n",
      " dense_2 (Dense)             (None, 128)               32896     \n",
      "                                                                 \n",
      " dropout_2 (Dropout)         (None, 128)               0         \n",
      "                                                                 \n",
      " dense_3 (Dense)             (None, 1)                 129       \n",
      "                                                                 \n",
      "=================================================================\n",
      "Total params: 26,379,265\n",
      "Trainable params: 26,379,265\n",
      "Non-trainable params: 0\n",
      "_________________________________________________________________\n"
     ]
    }
   ],
   "source": [
    "model.summary()"
   ]
  },
  {
   "cell_type": "code",
   "execution_count": null,
   "id": "275d255e",
   "metadata": {},
   "outputs": [
    {
     "name": "stdout",
     "output_type": "stream",
     "text": [
      "Epoch 1/30\n",
      "40/40 [==============================] - 5s 119ms/step - loss: 1.1393 - accuracy: 0.5115 - val_loss: 0.6893 - val_accuracy: 0.5690\n",
      "Epoch 2/30\n",
      "40/40 [==============================] - 5s 126ms/step - loss: 0.7373 - accuracy: 0.4910 - val_loss: 0.6870 - val_accuracy: 0.5560\n",
      "Epoch 3/30\n",
      "40/40 [==============================] - 6s 140ms/step - loss: 0.7086 - accuracy: 0.5345 - val_loss: 0.7146 - val_accuracy: 0.5000\n",
      "Epoch 4/30\n",
      "40/40 [==============================] - 6s 141ms/step - loss: 0.7036 - accuracy: 0.5260 - val_loss: 0.6791 - val_accuracy: 0.5750\n",
      "Epoch 5/30\n",
      "40/40 [==============================] - 6s 138ms/step - loss: 0.6860 - accuracy: 0.5625 - val_loss: 0.6901 - val_accuracy: 0.5010\n",
      "Epoch 6/30\n",
      "40/40 [==============================] - 6s 139ms/step - loss: 0.6853 - accuracy: 0.5605 - val_loss: 0.6824 - val_accuracy: 0.5950\n",
      "Epoch 7/30\n",
      "40/40 [==============================] - 6s 143ms/step - loss: 0.6793 - accuracy: 0.5750 - val_loss: 0.6838 - val_accuracy: 0.5590\n",
      "Epoch 8/30\n",
      "40/40 [==============================] - 6s 141ms/step - loss: 0.6831 - accuracy: 0.5700 - val_loss: 0.6737 - val_accuracy: 0.5970\n",
      "Epoch 9/30\n",
      "40/40 [==============================] - 6s 139ms/step - loss: 0.6691 - accuracy: 0.5885 - val_loss: 0.6600 - val_accuracy: 0.6190\n",
      "Epoch 10/30\n",
      "40/40 [==============================] - 6s 139ms/step - loss: 0.6654 - accuracy: 0.5950 - val_loss: 0.6644 - val_accuracy: 0.6070\n",
      "Epoch 11/30\n",
      "40/40 [==============================] - 6s 139ms/step - loss: 0.6592 - accuracy: 0.6055 - val_loss: 0.6458 - val_accuracy: 0.6290\n",
      "Epoch 12/30\n",
      "40/40 [==============================] - 5s 126ms/step - loss: 0.6447 - accuracy: 0.6275 - val_loss: 0.6449 - val_accuracy: 0.6260\n",
      "Epoch 13/30\n",
      "40/40 [==============================] - 5s 114ms/step - loss: 0.6434 - accuracy: 0.6270 - val_loss: 0.6230 - val_accuracy: 0.6720\n",
      "Epoch 14/30\n",
      "40/40 [==============================] - 4s 110ms/step - loss: 0.6283 - accuracy: 0.6505 - val_loss: 0.6186 - val_accuracy: 0.6800\n",
      "Epoch 15/30\n",
      "40/40 [==============================] - 4s 109ms/step - loss: 0.6597 - accuracy: 0.5990 - val_loss: 0.6340 - val_accuracy: 0.6510\n",
      "Epoch 16/30\n",
      "40/40 [==============================] - 4s 110ms/step - loss: 0.6538 - accuracy: 0.6100 - val_loss: 0.6421 - val_accuracy: 0.6290\n",
      "Epoch 17/30\n",
      "40/40 [==============================] - 4s 110ms/step - loss: 0.6273 - accuracy: 0.6505 - val_loss: 0.6168 - val_accuracy: 0.6900\n",
      "Epoch 18/30\n",
      "40/40 [==============================] - 5s 114ms/step - loss: 0.6157 - accuracy: 0.6650 - val_loss: 0.6078 - val_accuracy: 0.6900\n",
      "Epoch 19/30\n",
      "40/40 [==============================] - 4s 110ms/step - loss: 0.6274 - accuracy: 0.6315 - val_loss: 0.6341 - val_accuracy: 0.6450\n",
      "Epoch 20/30\n",
      "40/40 [==============================] - 5s 113ms/step - loss: 0.6460 - accuracy: 0.6250 - val_loss: 0.6454 - val_accuracy: 0.6470\n",
      "Epoch 21/30\n",
      "40/40 [==============================] - 4s 112ms/step - loss: 0.6145 - accuracy: 0.6495 - val_loss: 0.6102 - val_accuracy: 0.6900\n",
      "Epoch 22/30\n",
      "40/40 [==============================] - 4s 111ms/step - loss: 0.6820 - accuracy: 0.5470 - val_loss: 0.6971 - val_accuracy: 0.5050\n",
      "Epoch 23/30\n",
      "40/40 [==============================] - 4s 111ms/step - loss: 0.6959 - accuracy: 0.5005 - val_loss: 0.6912 - val_accuracy: 0.5050\n",
      "Epoch 24/30\n",
      "40/40 [==============================] - 5s 115ms/step - loss: 0.6930 - accuracy: 0.4990 - val_loss: 0.6904 - val_accuracy: 0.5050\n",
      "Epoch 25/30\n",
      "40/40 [==============================] - 5s 117ms/step - loss: 0.6919 - accuracy: 0.4990 - val_loss: 0.6878 - val_accuracy: 0.5000\n",
      "Epoch 26/30\n",
      "40/40 [==============================] - 5s 113ms/step - loss: 0.6752 - accuracy: 0.5310 - val_loss: 0.6817 - val_accuracy: 0.5320\n",
      "Epoch 27/30\n",
      "40/40 [==============================] - 5s 114ms/step - loss: 0.6312 - accuracy: 0.6350 - val_loss: 0.6247 - val_accuracy: 0.6900\n",
      "Epoch 28/30\n",
      "40/40 [==============================] - ETA: 0s - loss: 0.6239 - accuracy: 0.6380"
     ]
    }
   ],
   "source": [
    "history = model.fit(features, labels, epochs=30, batch_size=50, validation_data=(features_test, labels_test))"
   ]
  },
  {
   "cell_type": "code",
   "execution_count": null,
   "id": "337734c7",
   "metadata": {},
   "outputs": [],
   "source": [
    "epochs = range(30)\n",
    "plt.plot(epochs, history.history['accuracy'], color='green')\n",
    "plt.plot(epochs, history.history['val_accuracy'], color='red')"
   ]
  }
 ],
 "metadata": {
  "kernelspec": {
   "display_name": "Python 3 (ipykernel)",
   "language": "python",
   "name": "python3"
  },
  "language_info": {
   "codemirror_mode": {
    "name": "ipython",
    "version": 3
   },
   "file_extension": ".py",
   "mimetype": "text/x-python",
   "name": "python",
   "nbconvert_exporter": "python",
   "pygments_lexer": "ipython3",
   "version": "3.9.12"
  }
 },
 "nbformat": 4,
 "nbformat_minor": 5
}
