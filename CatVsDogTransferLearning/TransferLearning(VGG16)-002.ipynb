{
 "cells": [
  {
   "cell_type": "code",
   "execution_count": 2,
   "id": "b09cbce2",
   "metadata": {},
   "outputs": [],
   "source": [
    "from tensorflow.keras.models import Sequential\n",
    "from tensorflow.keras.layers import Dense, Dropout\n",
    "import pickle\n",
    "import numpy as np\n",
    "import matplotlib.pyplot as plt"
   ]
  },
  {
   "cell_type": "code",
   "execution_count": 3,
   "id": "19f4eea9",
   "metadata": {},
   "outputs": [
    {
     "data": {
      "text/plain": [
       "8192"
      ]
     },
     "execution_count": 3,
     "metadata": {},
     "output_type": "execute_result"
    }
   ],
   "source": [
    "4 * 4 * 512"
   ]
  },
  {
   "cell_type": "code",
   "execution_count": 4,
   "id": "e6713001",
   "metadata": {},
   "outputs": [],
   "source": [
    "model = Sequential()\n",
    "model.add(Dense(512, activation='relu', input_dim=8192))\n",
    "model.add(Dropout(0.3))\n",
    "model.add(Dense(256, activation='relu'))\n",
    "model.add(Dropout(0.3))\n",
    "model.add(Dense(128, activation='relu'))\n",
    "model.add(Dropout(0.3))\n",
    "model.add(Dense(1, activation='sigmoid'))"
   ]
  },
  {
   "cell_type": "code",
   "execution_count": 5,
   "id": "cd2915da",
   "metadata": {},
   "outputs": [],
   "source": [
    "model.compile(optimizer='adam', loss='binary_crossentropy', metrics=['accuracy'])"
   ]
  },
  {
   "cell_type": "code",
   "execution_count": 6,
   "id": "935ccfb1",
   "metadata": {},
   "outputs": [],
   "source": [
    "with open('vggfeatures.h5', 'rb') as f:\n",
    "    features = pickle.load(f)\n",
    "with open('vgglabels.h5', 'rb') as f:\n",
    "    labels = pickle.load(f)"
   ]
  },
  {
   "cell_type": "code",
   "execution_count": 7,
   "id": "2c35c1b3",
   "metadata": {},
   "outputs": [],
   "source": [
    "with open('vggfeatures_test.h5', 'rb') as f:\n",
    "    features_test = pickle.load(f)\n",
    "with open('vgglabels_test.h5', 'rb') as f:\n",
    "    labels_test = pickle.load(f)"
   ]
  },
  {
   "cell_type": "code",
   "execution_count": 8,
   "id": "59bea326",
   "metadata": {},
   "outputs": [
    {
     "name": "stdout",
     "output_type": "stream",
     "text": [
      "Model: \"sequential\"\n",
      "_________________________________________________________________\n",
      " Layer (type)                Output Shape              Param #   \n",
      "=================================================================\n",
      " dense (Dense)               (None, 512)               4194816   \n",
      "                                                                 \n",
      " dropout (Dropout)           (None, 512)               0         \n",
      "                                                                 \n",
      " dense_1 (Dense)             (None, 256)               131328    \n",
      "                                                                 \n",
      " dropout_1 (Dropout)         (None, 256)               0         \n",
      "                                                                 \n",
      " dense_2 (Dense)             (None, 128)               32896     \n",
      "                                                                 \n",
      " dropout_2 (Dropout)         (None, 128)               0         \n",
      "                                                                 \n",
      " dense_3 (Dense)             (None, 1)                 129       \n",
      "                                                                 \n",
      "=================================================================\n",
      "Total params: 4,359,169\n",
      "Trainable params: 4,359,169\n",
      "Non-trainable params: 0\n",
      "_________________________________________________________________\n"
     ]
    }
   ],
   "source": [
    "model.summary()"
   ]
  },
  {
   "cell_type": "code",
   "execution_count": 9,
   "id": "275d255e",
   "metadata": {},
   "outputs": [
    {
     "name": "stdout",
     "output_type": "stream",
     "text": [
      "Epoch 1/30\n",
      "40/40 [==============================] - 2s 26ms/step - loss: 0.5766 - accuracy: 0.7255 - val_loss: 0.2892 - val_accuracy: 0.8790\n",
      "Epoch 2/30\n",
      "40/40 [==============================] - 1s 25ms/step - loss: 0.3052 - accuracy: 0.8730 - val_loss: 0.2633 - val_accuracy: 0.8920\n",
      "Epoch 3/30\n",
      "40/40 [==============================] - 1s 21ms/step - loss: 0.2310 - accuracy: 0.9090 - val_loss: 0.2748 - val_accuracy: 0.8940\n",
      "Epoch 4/30\n",
      "40/40 [==============================] - 1s 21ms/step - loss: 0.1740 - accuracy: 0.9285 - val_loss: 0.2868 - val_accuracy: 0.8820\n",
      "Epoch 5/30\n",
      "40/40 [==============================] - 1s 22ms/step - loss: 0.1350 - accuracy: 0.9460 - val_loss: 0.2957 - val_accuracy: 0.9040\n",
      "Epoch 6/30\n",
      "40/40 [==============================] - 1s 21ms/step - loss: 0.1604 - accuracy: 0.9425 - val_loss: 0.2737 - val_accuracy: 0.9020\n",
      "Epoch 7/30\n",
      "40/40 [==============================] - 1s 21ms/step - loss: 0.0994 - accuracy: 0.9620 - val_loss: 0.3737 - val_accuracy: 0.8990\n",
      "Epoch 8/30\n",
      "40/40 [==============================] - 1s 21ms/step - loss: 0.0670 - accuracy: 0.9760 - val_loss: 0.4768 - val_accuracy: 0.8880\n",
      "Epoch 9/30\n",
      "40/40 [==============================] - 1s 21ms/step - loss: 0.0426 - accuracy: 0.9880 - val_loss: 0.4357 - val_accuracy: 0.8940\n",
      "Epoch 10/30\n",
      "40/40 [==============================] - 1s 21ms/step - loss: 0.0464 - accuracy: 0.9820 - val_loss: 0.5008 - val_accuracy: 0.8970\n",
      "Epoch 11/30\n",
      "40/40 [==============================] - 1s 21ms/step - loss: 0.0280 - accuracy: 0.9880 - val_loss: 0.4794 - val_accuracy: 0.8960\n",
      "Epoch 12/30\n",
      "40/40 [==============================] - 1s 21ms/step - loss: 0.0585 - accuracy: 0.9785 - val_loss: 0.5278 - val_accuracy: 0.8710\n",
      "Epoch 13/30\n",
      "40/40 [==============================] - 1s 21ms/step - loss: 0.0749 - accuracy: 0.9715 - val_loss: 0.3857 - val_accuracy: 0.8980\n",
      "Epoch 14/30\n",
      "40/40 [==============================] - 1s 21ms/step - loss: 0.0332 - accuracy: 0.9885 - val_loss: 0.4650 - val_accuracy: 0.9000\n",
      "Epoch 15/30\n",
      "40/40 [==============================] - 1s 21ms/step - loss: 0.0254 - accuracy: 0.9895 - val_loss: 0.5518 - val_accuracy: 0.8850\n",
      "Epoch 16/30\n",
      "40/40 [==============================] - 1s 21ms/step - loss: 0.0236 - accuracy: 0.9915 - val_loss: 0.5972 - val_accuracy: 0.8970\n",
      "Epoch 17/30\n",
      "40/40 [==============================] - 1s 21ms/step - loss: 0.0487 - accuracy: 0.9820 - val_loss: 0.5399 - val_accuracy: 0.8950\n",
      "Epoch 18/30\n",
      "40/40 [==============================] - 1s 21ms/step - loss: 0.0577 - accuracy: 0.9760 - val_loss: 0.4488 - val_accuracy: 0.8820\n",
      "Epoch 19/30\n",
      "40/40 [==============================] - 1s 21ms/step - loss: 0.0230 - accuracy: 0.9930 - val_loss: 0.5360 - val_accuracy: 0.8910\n",
      "Epoch 20/30\n",
      "40/40 [==============================] - 1s 21ms/step - loss: 0.0219 - accuracy: 0.9915 - val_loss: 0.5404 - val_accuracy: 0.8780\n",
      "Epoch 21/30\n",
      "40/40 [==============================] - 1s 21ms/step - loss: 0.0196 - accuracy: 0.9955 - val_loss: 0.6243 - val_accuracy: 0.9000\n",
      "Epoch 22/30\n",
      "40/40 [==============================] - 1s 21ms/step - loss: 0.0175 - accuracy: 0.9945 - val_loss: 0.5898 - val_accuracy: 0.8950\n",
      "Epoch 23/30\n",
      "40/40 [==============================] - 1s 21ms/step - loss: 0.0143 - accuracy: 0.9955 - val_loss: 0.5939 - val_accuracy: 0.8990\n",
      "Epoch 24/30\n",
      "40/40 [==============================] - 1s 21ms/step - loss: 0.0106 - accuracy: 0.9965 - val_loss: 0.7447 - val_accuracy: 0.8940\n",
      "Epoch 25/30\n",
      "40/40 [==============================] - 1s 21ms/step - loss: 0.0801 - accuracy: 0.9760 - val_loss: 0.6129 - val_accuracy: 0.8790\n",
      "Epoch 26/30\n",
      "40/40 [==============================] - 1s 21ms/step - loss: 0.0496 - accuracy: 0.9825 - val_loss: 0.4707 - val_accuracy: 0.9020\n",
      "Epoch 27/30\n",
      "40/40 [==============================] - 1s 21ms/step - loss: 0.0224 - accuracy: 0.9915 - val_loss: 0.6223 - val_accuracy: 0.8840\n",
      "Epoch 28/30\n",
      "40/40 [==============================] - 1s 21ms/step - loss: 0.0170 - accuracy: 0.9935 - val_loss: 0.6198 - val_accuracy: 0.8980\n",
      "Epoch 29/30\n",
      "40/40 [==============================] - 1s 21ms/step - loss: 0.0290 - accuracy: 0.9910 - val_loss: 0.6153 - val_accuracy: 0.8800\n",
      "Epoch 30/30\n",
      "40/40 [==============================] - 1s 21ms/step - loss: 0.0259 - accuracy: 0.9895 - val_loss: 0.6759 - val_accuracy: 0.8850\n"
     ]
    }
   ],
   "source": [
    "history = model.fit(features, labels, epochs=30, batch_size=50, validation_data=(features_test, labels_test))"
   ]
  },
  {
   "cell_type": "code",
   "execution_count": 10,
   "id": "337734c7",
   "metadata": {},
   "outputs": [
    {
     "data": {
      "text/plain": [
       "[<matplotlib.lines.Line2D at 0x22591ac7340>]"
      ]
     },
     "execution_count": 10,
     "metadata": {},
     "output_type": "execute_result"
    },
    {
     "data": {
      "image/png": "[encoded data removed]",
      "text/plain": [
       "<Figure size 432x288 with 1 Axes>"
      ]
     },
     "metadata": {
      "needs_background": "light"
     },
     "output_type": "display_data"
    }
   ],
   "source": [
    "epochs = range(30)\n",
    "plt.plot(epochs, history.history['accuracy'], color='green')\n",
    "plt.plot(epochs, history.history['val_accuracy'], color='red')"
   ]
  }
 ],
 "metadata": {
  "kernelspec": {
   "display_name": "Python 3 (ipykernel)",
   "language": "python",
   "name": "python3"
  },
  "language_info": {
   "codemirror_mode": {
    "name": "ipython",
    "version": 3
   },
   "file_extension": ".py",
   "mimetype": "text/x-python",
   "name": "python",
   "nbconvert_exporter": "python",
   "pygments_lexer": "ipython3",
   "version": "3.9.12"
  }
 },
 "nbformat": 4,
 "nbformat_minor": 5
}
